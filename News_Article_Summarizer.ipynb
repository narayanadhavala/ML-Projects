{
  "nbformat": 4,
  "nbformat_minor": 0,
  "metadata": {
    "colab": {
      "provenance": [],
      "authorship_tag": "ABX9TyO3VBDw+4OUo7df8ZqJDAmH",
      "include_colab_link": true
    },
    "kernelspec": {
      "name": "python3",
      "display_name": "Python 3"
    },
    "language_info": {
      "name": "python"
    }
  },
  "cells": [
    {
      "cell_type": "markdown",
      "metadata": {
        "id": "view-in-github",
        "colab_type": "text"
      },
      "source": [
        "<a href=\"https://colab.research.google.com/github/narayanadhavala/ML-Projects/blob/main/News_Article_Summarizer.ipynb\" target=\"_parent\"><img src=\"https://colab.research.google.com/assets/colab-badge.svg\" alt=\"Open In Colab\"/></a>"
      ]
    },
    {
      "cell_type": "markdown",
      "source": [
        "# News Article Summarizer"
      ],
      "metadata": {
        "id": "qpRtDMLt4ZuX"
      }
    },
    {
      "cell_type": "code",
      "execution_count": 7,
      "metadata": {
        "id": "fz2zL_fH4Eek"
      },
      "outputs": [],
      "source": [
        "!pip install -qU langchain-openai langchain-community\n",
        "!pip install -q newspaper3k python-dotenv lxml[html_clean]"
      ]
    },
    {
      "cell_type": "markdown",
      "source": [
        "## Import OpenAI_API Key\n",
        "* I stored the OpenAi API key in Google Colab's Secret store, we can also store the key in '.env' and load the keys using the 'python-dotenv' package."
      ],
      "metadata": {
        "id": "YIPqotKy5sf2"
      }
    },
    {
      "cell_type": "code",
      "source": [
        "import json\n",
        "from google.colab import userdata\n",
        "\n",
        "OPENAI_API_KEY = userdata.get('OpenAI_API')"
      ],
      "metadata": {
        "id": "ulosmuSA5M7k"
      },
      "execution_count": 8,
      "outputs": []
    },
    {
      "cell_type": "code",
      "source": [
        "import requests\n",
        "from newspaper import Article\n",
        "\n",
        "\n",
        "headers = {\n",
        "    'User-Agent': 'Mozilla/5.0 (Windows NT 10.0; Win64; x64) AppleWebKit/537.36 (KHTML, like Gecko) Chrome/89.0.4389.82 Safari/537.36'\n",
        "}\n",
        "\n",
        "article_url = \"https://link.springer.com/chapter/10.1007/978-3-031-98668-0_7\"\n",
        "\n",
        "session = requests.Session()\n",
        "\n",
        "try:\n",
        "    response = session.get(article_url, headers=headers, timeout=10)\n",
        "\n",
        "    if response.status_code == 200:\n",
        "        article = Article(article_url)\n",
        "        article.download()\n",
        "        article.parse()\n",
        "\n",
        "        print(f\"Title: {article.title}\")\n",
        "        print(f\"Text: {article.text}\")\n",
        "\n",
        "    else:\n",
        "        print(f\"Failed to fetch article at {article_url}\")\n",
        "except Exception as e:\n",
        "    print(f\"Error occurred while fetching article at {article_url}: {e}\")"
      ],
      "metadata": {
        "colab": {
          "base_uri": "https://localhost:8080/"
        },
        "id": "UwnYGs_p5lw1",
        "outputId": "643ad23e-530a-4c84-b331-7fd169957245"
      },
      "execution_count": 9,
      "outputs": [
        {
          "output_type": "stream",
          "name": "stdout",
          "text": [
            "Title: Verifying PETSc Vector Components Using CIVL\n",
            "Text: Modern computational science applications rely on numerical libraries for portable and efficient implementations of numerical algorithms and data structures. One widely used example is the Portable, Extensible Toolkit for Scientific Computation (PETSc) [1,2,3]. PETSc provides a suite of parallel linear and nonlinear solvers, ordinary differential equation (ODE) integrators, and numerical optimization solvers, along with supporting mathematical objects including vectors, matrices, structured grids, and graphs, with associated abstractions and data structures for managing parallel domain decomposition and communication.\n",
            "\n",
            "PETSc and its development team have received numerous accolades, including the 2015 SIAM/ACM Prize in Computational Science and Engineering and inclusion as one of the Top Ten Advances in Computational Science Accomplishments of the U.S. Department of Energy in 2008. An incomplete list of application domains using PETSc includes acoustics, aerodynamics, air pollution, bone fractures, cancer treatment, cardiology, combustion, earthquake modeling, economics, fission and fusion modeling, magnetics, ocean dynamics, polymeric membranes, and subsurface modeling. The users manual [1] and primary paper [3] have been cited almost 6,000 times and almost 3,000 times, respectively.\n",
            "\n",
            "Because PETSc is used by so many and such important applications, any defect could have wide-ranging and potentially devastating consequences. For this reason, PETSc, like most high-consequence software, undergoes extensive testing. PETSc uses GitLab pipelines for testing during continuous integration, and the PETSc test suite executes over 13,000 tests. Nonetheless, even test suites with excellent (path) coverage can miss defects, especially subtle ones such as data races that may result in incorrect behavior only occasionally and under particular circumstances. We are therefore engaged in an effort, in collaboration with the PETSc developers, to verify PETSc’s functional correctness using a combination of symbolic execution [11] and model checking [8], starting with the most fundamental mathematical object in PETSc: vectors.\n",
            "\n",
            "The rest of this paper is organized as follows. In the remainder of this section, we introduce the CIVL model checker [17] and provide an overview of PETSc’s vector module. In Sect. 2, we describe how we created an abstract vector library. In Sect. 3, we introduce our modular verification approach that leverages this library and specification stubs. We summarize our results in Sect. 4 and conclude with lessons learned and future plans in Sect. 5.\n",
            "\n",
            "1.1 Background on the CIVL Model Checker\n",
            "\n",
            "The CIVL model checker [7, 15] is a verification tool for sequential or parallel C and Fortran programs. It uses an intermediate verification language, CIVL-C, which adds primitives for verification and concurrency to standard sequential C. The additional primitives begin with $ to clearly distinguish them from standard C keywords. One of these is the type modifier $input, which specifies that a global variable should be read-only and assigned an unconstrained value of its type in the initial state. Another is the $assert statement, which is similar to C’s assert but accepts a richer assertion language, including universal and existential quantifiers ($forall and $exists). The $assume statement indicates that an execution should be ignored if its Boolean argument evaluates to false.\n",
            "\n",
            "The CIVL front end consumes a source program in C or Fortran—possibly with MPI [12] and/or OpenMP [14]—and converts it to a “pure” CIVL-C program. The back end uses symbolic execution [11] and model checking [8] to explore all possible program executions for all possible inputs. The program must define a finite state space, which in practice requires small bounds on parameters such as the number of processes or threads, input array sizes, and any parameter controlling the number of loop iterations. CIVL uses a built-in model checker as well as calls to Z3 [9] and CVC4 [4] to enumerate reachable symbolic states and verify the absence of assertion violations, deadlocks, out-of-bound indexes, illegal pointer operations, memory leaks, and other types of faults. If a violation is detected, diagnostic information is printed and a trace for replay is saved.\n",
            "\n",
            "We chose CIVL for this project because of its ability to handle C and MPI, as well as its ability to reason precisely about formulas in real arithmetic, including nonlinear arithmetic—all essential requirements for verification of PETSc.\n",
            "\n",
            "1.2 Overview of PETSc’s Vector Class\n",
            "\n",
            "Although PETSc is written primarily in standard C, it follows a highly object-oriented design, implementing its own mechanisms for inheritance, dynamic dispatch, and so on. The library is organized as a collection of several classes, with each class providing an abstract interface (a set of calling sequences similar to an abstract base class in C++) and one or more implementations that provide specific solver algorithms or target a particular execution resource. The collection of classes in PETSc can be viewed as a hierarchy of mathematical abstractions. At the lowest level of this hierarchy sits the Vec vector class, which provides the abstract interfaces for creation and manipulation of vectors, along with several high-performance implementations: the “sequential” (_Seq) implementation that targets execution on a single MPI rank on a CPU, the “MPI” (_MPI) implementation targeting distributed-memory parallel execution, and several implementations targeting different GPU programming models.\n",
            "\n",
            "PETSc employs numerous preprocessor macros to improve portability and maintainability, but these can complicate both manual comprehension and automated analysis. Consider the PetscUseTypeMethod macro in Fig. 1, which is used by VecMethodDispatch, itself a macro. First, PETSC_FIRST_ARG extracts the name of the function to call and PETSC_REST_ARG expands the remainder of the arguments. Then, PetscCheck uses stringification (PetscStringize) to generate the function name by concatenating parts of the object class and type names. Next, after confirming that the function pointer is valid, PetscCall uses the expanded parameters to invoke the appropriate function, using the table of function pointers associated with object obj, created at runtime. This use of macro-expansions underscores the complexity of string manipulations, argument extraction, and dynamic method dispatch in PETSc.\n"
          ]
        }
      ]
    },
    {
      "cell_type": "code",
      "source": [
        "from langchain_core.messages import HumanMessage, SystemMessage\n",
        "\n",
        "# we get the article data from the scraping part\n",
        "article_title = article.title\n",
        "article_text = article.text\n",
        "\n",
        "# prepare template for prompt\n",
        "template = \"\"\"You are a very good assistant that summarizes online articles.\n",
        "\n",
        "Here's the article you want to summarize.\n",
        "\n",
        "==================\n",
        "Title: {article_title}\n",
        "\n",
        "{article_text}\n",
        "==================\n",
        "\n",
        "Write a summary of the previous article.\n",
        "\"\"\"\n",
        "\n",
        "prompt = template.format(article_title=article.title, article_text=article.text)\n",
        "\n",
        "messages = [HumanMessage(content=prompt)]"
      ],
      "metadata": {
        "id": "ZlTKjwh89km8"
      },
      "execution_count": 10,
      "outputs": []
    },
    {
      "cell_type": "code",
      "source": [
        "from langchain_openai import ChatOpenAI\n",
        "\n",
        "# load the model\n",
        "chat = ChatOpenAI(model_name=\"gpt-4o-mini\", temperature=0, api_key=OPENAI_API_KEY)"
      ],
      "metadata": {
        "id": "h58z618G-QQH"
      },
      "execution_count": 12,
      "outputs": []
    },
    {
      "cell_type": "code",
      "source": [
        "summary = chat.invoke(messages)\n",
        "print(summary)"
      ],
      "metadata": {
        "colab": {
          "base_uri": "https://localhost:8080/"
        },
        "id": "nLP5G9-x-aDS",
        "outputId": "21010aaa-651b-410e-8a2f-64adb45cca1e"
      },
      "execution_count": 14,
      "outputs": [
        {
          "output_type": "stream",
          "name": "stdout",
          "text": [
            "content=\"The article discusses the verification of vector components in the Portable, Extensible Toolkit for Scientific Computation (PETSc) using the CIVL model checker. PETSc is a widely used numerical library that provides various solvers and mathematical objects, essential for numerous computational science applications across diverse fields such as acoustics, aerodynamics, and cancer treatment. Given its critical role, ensuring the correctness of PETSc is paramount, leading to extensive testing through GitLab pipelines and a comprehensive test suite.\\n\\nHowever, traditional testing may not catch subtle defects, prompting a collaboration with PETSc developers to verify its functional correctness through symbolic execution and model checking, starting with its vector module. The article introduces the CIVL model checker, which enhances C and Fortran programs with verification capabilities, allowing for the exploration of all possible program executions. CIVL's ability to handle C, MPI, and real arithmetic makes it suitable for verifying PETSc.\\n\\nThe article also provides an overview of PETSc's vector class, which is designed with an object-oriented approach, featuring a hierarchy of classes and various implementations for different execution environments. The complexity of PETSc's design, including the use of preprocessor macros for dynamic method dispatch, poses challenges for both manual comprehension and automated analysis. The paper outlines the structure of the verification effort and its significance in ensuring the reliability of PETSc.\" additional_kwargs={'refusal': None} response_metadata={'token_usage': {'completion_tokens': 267, 'prompt_tokens': 1300, 'total_tokens': 1567, 'completion_tokens_details': {'accepted_prediction_tokens': 0, 'audio_tokens': 0, 'reasoning_tokens': 0, 'rejected_prediction_tokens': 0}, 'prompt_tokens_details': {'audio_tokens': 0, 'cached_tokens': 1280}}, 'model_name': 'gpt-4o-mini-2024-07-18', 'system_fingerprint': 'fp_8bda4d3a2c', 'id': 'chatcmpl-CDu4BSQsPayoaPo6LAgCKfxzAOFoP', 'service_tier': 'default', 'finish_reason': 'stop', 'logprobs': None} id='run--89f9d841-d4ce-404f-989c-1f7b9bb03731-0' usage_metadata={'input_tokens': 1300, 'output_tokens': 267, 'total_tokens': 1567, 'input_token_details': {'audio': 0, 'cache_read': 1280}, 'output_token_details': {'audio': 0, 'reasoning': 0}}\n"
          ]
        }
      ]
    },
    {
      "cell_type": "markdown",
      "source": [
        "### If we want a bulleted list, we need to modify the prompt and get the result."
      ],
      "metadata": {
        "id": "gzkhvz0wCIDJ"
      }
    },
    {
      "cell_type": "code",
      "source": [
        "# prepare template for prompt\n",
        "template = \"\"\"You are an advanced AI assistant that summarizes online articles into bulleted lists.\n",
        "\n",
        "Here's the article you need to summarize.\n",
        "\n",
        "==================\n",
        "Title: {article_title}\n",
        "\n",
        "{article_text}\n",
        "==================\n",
        "\n",
        "Now, provide a summarized version of the article in a bulleted list format.\n",
        "\"\"\"\n",
        "\n",
        "# format prompt\n",
        "prompt_2 = template.format(article_title=article.title, article_text=article.text)\n",
        "\n",
        "# generate summary\n",
        "summary = chat.invoke([HumanMessage(content=prompt_2)])\n",
        "print(summary)"
      ],
      "metadata": {
        "colab": {
          "base_uri": "https://localhost:8080/"
        },
        "id": "lG2P2YGiCPQj",
        "outputId": "b85443aa-9a32-439d-cf92-c4a52571dda9"
      },
      "execution_count": 17,
      "outputs": [
        {
          "output_type": "stream",
          "name": "stdout",
          "text": [
            "content=\"- **Title**: Verifying PETSc Vector Components Using CIVL\\n- **Overview of PETSc**:\\n  - A widely used numerical library for scientific computation.\\n  - Provides parallel solvers, ODE integrators, and optimization solvers.\\n  - Supports mathematical objects like vectors, matrices, and graphs.\\n  - Recognized with awards such as the 2015 SIAM/ACM Prize and inclusion in Top Ten Advances by the U.S. Department of Energy.\\n  - Used in diverse fields: acoustics, aerodynamics, cancer treatment, economics, etc.\\n  - User manual and primary paper have been cited thousands of times.\\n\\n- **Importance of Testing**:\\n  - Extensive testing is crucial due to the potential impact of defects.\\n  - PETSc employs GitLab pipelines and a test suite with over 13,000 tests.\\n  - Subtle defects, like data races, may still go undetected.\\n\\n- **Verification Efforts**:\\n  - Collaboration with PETSc developers to verify functional correctness.\\n  - Utilizes symbolic execution and model checking, focusing on PETSc's vector module.\\n\\n- **CIVL Model Checker**:\\n  - A verification tool for C and Fortran programs, supporting sequential and parallel execution.\\n  - Introduces an intermediate verification language (CIVL-C) with additional primitives for verification.\\n  - Capable of exploring all possible program executions and verifying absence of faults.\\n  - Chosen for its ability to handle C, MPI, and real arithmetic, essential for PETSc verification.\\n\\n- **Overview of PETSc’s Vector Class**:\\n  - Written in standard C with an object-oriented design.\\n  - Organized into classes with abstract interfaces and specific implementations.\\n  - The Vec vector class is fundamental, providing interfaces for vector creation and manipulation.\\n  - Supports various implementations for different execution environments (e.g., sequential, MPI, GPU).\\n  - Uses preprocessor macros for portability, which complicates comprehension and analysis.\\n\\n- **Conclusion**:\\n  - The paper outlines the verification process, results, and future plans for improving PETSc's reliability.\" additional_kwargs={'refusal': None} response_metadata={'token_usage': {'completion_tokens': 424, 'prompt_tokens': 1312, 'total_tokens': 1736, 'completion_tokens_details': {'accepted_prediction_tokens': 0, 'audio_tokens': 0, 'reasoning_tokens': 0, 'rejected_prediction_tokens': 0}, 'prompt_tokens_details': {'audio_tokens': 0, 'cached_tokens': 0}}, 'model_name': 'gpt-4o-mini-2024-07-18', 'system_fingerprint': 'fp_e665f7564b', 'id': 'chatcmpl-CDuM6aZC2au1M9H6dLAmTBhLw1QsM', 'service_tier': 'default', 'finish_reason': 'stop', 'logprobs': None} id='run--65bbca1b-cc92-4965-a438-5aeac411632c-0' usage_metadata={'input_tokens': 1312, 'output_tokens': 424, 'total_tokens': 1736, 'input_token_details': {'audio': 0, 'cache_read': 0}, 'output_token_details': {'audio': 0, 'reasoning': 0}}\n"
          ]
        }
      ]
    }
  ]
}